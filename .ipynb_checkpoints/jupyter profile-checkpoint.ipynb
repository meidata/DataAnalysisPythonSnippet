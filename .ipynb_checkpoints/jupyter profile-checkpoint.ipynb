{
 "cells": [
  {
   "cell_type": "markdown",
   "metadata": {
    "collapsed": true
   },
   "source": [
    "+ Connect To The Database\n",
    "From Python 2.5 and onwards, the Sqlite module has come built-in to the Python language, which means we don't need to install any separate libraries to get started. Specifically, we'll be working with the Sqlite3 Python module, which was developed to work with SQLite version 3.\n",
    "\n",
    "We can import it into our environment using:\n",
    "\n",
    "\n",
    "import sqlite3\n",
    "Once imported, we connect to the database we want to query using the connect() function. The connect() function has a single required parameter, the database we want to connect to. Since the database we're working with is stored as a file on disk, we need to pass in the filename. The connect() function returns a Connection instance, which maintains the connection to the database we want to work with. When you're connected to a database, SQLite locks the database file and prevents any other process from connecting to the database simultaneously. This was a design decision made by the SQLite team to keep the database lightweight and avoid the complexity that arises when multiple processes are interacting with the same database.\n",
    "\n",
    "\n",
    "\n",
    ">import sqlite3 \n",
    " conn = sqlite3.connect(\"jobs.db\")\n",
    "\n",
    "4: Cursor Object And Tuples\n",
    "Before we can execute a query, we need to express our SQL query as a string. While we use the Connection class to represent the database we're working with, we use the Cursor class to:\n",
    "\n",
    "run a query against the database.\n",
    "parse the results from the database.\n",
    "convert the results to native Python objects.\n",
    "store the results within the Cursor instance as a local variable.\n",
    "After running a query and converting the results to a list of tuples, the Cursor instance stores the list as a local variable. Before diving into the syntax of querying the database, let's learn more about tuples.\n",
    "\n",
    "5: Tuples\n",
    "A tuple is a core Python data structure used to represent a sequence of values, similar to a list. Unlike lists, tuples are immutable, which means they can't be modified after creation. Each row is in the results set is represented as a tuple.\n",
    "\n",
    "To create an empty tuple, assign a pair of empty parentheses to a variable:\n",
    "\n",
    "\n",
    "t = ()\n",
    "Tuples are indexed the same way as lists, from 0 to n-1, and you access values using bracket notation.\n",
    "\n",
    "\n",
    "t = ('Apple', 'Banana')\n",
    "apple = t[0] \n",
    "banana = t[1]\n",
    "\n",
    "Tuples are faster than lists, which is helpful when working with larger databases and larger results sets. Let's now dive into how to use the Cursor instance to query the database.\n",
    "\n",
    "6: Running A Query\n",
    "We need to use the Connection instance method cursor() to return a Cursor instance corresponding to the database we want to query.\n",
    "\n",
    "\n",
    "cursor = conn.cursor()\n",
    "In the following code block, we:\n",
    "\n",
    "write a basic select query that returns all of the values from the recent_grads table and store it as a string called query.\n",
    "use the Cursor method execute() to run the query against our database.\n",
    "return the full results set and store it as results.\n",
    "print the first 3 tuples in the list results.\n",
    "\n"
   ]
  },
  {
   "cell_type": "code",
   "execution_count": null,
   "metadata": {
    "collapsed": true
   },
   "outputs": [],
   "source": [
    "import sqlite3 as sq\n",
    "\n",
    "conn = sq.connect(\"jobs.db\")\n",
    "\n",
    "cursor = conn.cursor()\n",
    "\n",
    "\n",
    "# SQL Query as a string\n",
    "query = \"select * from recent_grads;\"\n",
    "# Execute the query, convert the results to tuples, and store as a local variable.\n",
    "cursor.execute(query)\n",
    "# Fetch the full results set, as a list of tuples.\n",
    "results = cursor.fetchall()\n",
    "# Display the first 3 results.\n",
    "print(results[0:3])"
   ]
  },
  {
   "cell_type": "code",
   "execution_count": null,
   "metadata": {
    "collapsed": true
   },
   "outputs": [],
   "source": []
  }
 ],
 "metadata": {
  "anaconda-cloud": {},
  "kernelspec": {
   "display_name": "Python [conda env:python2]",
   "language": "python",
   "name": "conda-env-python2-py"
  },
  "language_info": {
   "codemirror_mode": {
    "name": "ipython",
    "version": 2
   },
   "file_extension": ".py",
   "mimetype": "text/x-python",
   "name": "python",
   "nbconvert_exporter": "python",
   "pygments_lexer": "ipython2",
   "version": "2.7.12"
  }
 },
 "nbformat": 4,
 "nbformat_minor": 1
}
